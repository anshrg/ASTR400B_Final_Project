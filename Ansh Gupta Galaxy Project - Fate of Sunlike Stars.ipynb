{
 "cells": [
  {
   "cell_type": "markdown",
   "id": "4c6a79b2",
   "metadata": {},
   "source": [
    "# ASTR 400B Galaxy Project - Movie Showing Eventual Fate of Sun-Like Stars\n",
    "\n",
    "# High level project breakdown\n",
    "The topic of this research project is to determine the eventual fate of Stars like the Sun in the disk of M31 and M33. Here, Sun-like stars are defined to be those at a similar distance from the galactic center (~8 pc), with a circular speed calculated using the enclosed mass at that radius, and with some maximum velocity out of the galactic plane. Specifically, I want to determine where these stars end up relative to the merger remnant and visualize his using a movie of the simulation. Additionally, I want to examine the distance of Sun-like particles in M31 from the M31 center of mass over time. To do this, I will create histograms which display the number of particles at a range of distances over time, again using all snaps from the simulation. These histograms will then be stitched together into a new video. Furthermore, I'll make a plot showing the maximum, minimum, and median velocity of Sun-like particles from the M31 COM as a function of simulation time."
   ]
  },
  {
   "cell_type": "code",
   "execution_count": 1,
   "id": "29c4be60",
   "metadata": {},
   "outputs": [],
   "source": [
    "import numpy as np\n",
    "\n",
    "import astropy.units as u\n",
    "from astropy.constants import G\n",
    "\n",
    "import matplotlib.pyplot as plt\n",
    "\n",
    "from ReadFile import Read\n",
    "from CenterOfMass2 import CenterOfMass\n",
    "from OrbitCOM import OrbitCOM\n",
    "from MassProfile import MassProfile\n",
    "%matplotlib inline"
   ]
  },
  {
   "cell_type": "markdown",
   "id": "10ab9d63",
   "metadata": {},
   "source": [
    "## 1. Select Sun-Like Stars in M31 and M33\n",
    "#### 1.1 Set radial distance of Sun from ISRF and maximum z-velocity (out of plane velocity). Define tolerance values to define an acceptable range of values to select Sun-like stars."
   ]
  },
  {
   "cell_type": "code",
   "execution_count": 2,
   "id": "30006fb6",
   "metadata": {},
   "outputs": [],
   "source": [
    "# For an initial estimate for selecting Sun-like particles, I use a tolerance of 10% (plus or minus 0.1 * parameter)\n",
    "sun_r = 8.29 # Distance of Sun from MW center in kpc (van der Marel+ 2012b)\n",
    "max_z_velocity = 100 # all particles with z-velocity < 100 km/s, modified condition from (van der Marel+ 2012a)\n",
    "\n",
    "# tuple storing radial distance of sun from galactic center (kpc) and maximum allowed out-of-plane velocity (km/s)\n",
    "sun_parameters = (sun_r, max_z_velocity) \n",
    "sun_tolerances = (0.1, 0.1) # fractional tolerance values for defining sun-like stars\n",
    "# first tolerance value is on radial distance, second is on calculated circular speed"
   ]
  },
  {
   "cell_type": "markdown",
   "id": "1f470ec9",
   "metadata": {},
   "source": [
    "#### 1.2 Import function to rotate the frame of M31 and M33 so that edge-on and face-on components can be analyzed."
   ]
  },
  {
   "cell_type": "code",
   "execution_count": 3,
   "id": "7b5f3503",
   "metadata": {},
   "outputs": [],
   "source": [
    "def RotateFrame(posI,velI): # function to rotate frame of M31/M33, from in-class lab 7\n",
    "    \"\"\"a function that will rotate the position and velocity vectors\n",
    "    so that the disk angular momentum is aligned with z axis. \n",
    "    \n",
    "    PARAMETERS\n",
    "    ----------\n",
    "        posI : `array of floats`\n",
    "             3D array of positions (x,y,z)\n",
    "        velI : `array of floats`\n",
    "             3D array of velocities (vx,vy,vz)\n",
    "             \n",
    "    RETURNS\n",
    "    -------\n",
    "        pos: `array of floats`\n",
    "            rotated 3D array of positions (x,y,z) such that disk is in the XY plane\n",
    "        vel: `array of floats`\n",
    "            rotated 3D array of velocities (vx,vy,vz) such that disk angular momentum vector\n",
    "            is in the +z direction \n",
    "    \"\"\"\n",
    "    \n",
    "    # compute the angular momentum\n",
    "    L = np.sum(np.cross(posI,velI), axis=0)\n",
    "    # normalize the vector\n",
    "    L_norm = L/np.sqrt(np.sum(L**2))\n",
    "\n",
    "\n",
    "    # Set up rotation matrix to map L_norm to z unit vector (disk in xy-plane)\n",
    "    \n",
    "    # z unit vector\n",
    "    z_norm = np.array([0, 0, 1])\n",
    "    \n",
    "    # cross product between L and z\n",
    "    vv = np.cross(L_norm, z_norm)\n",
    "    s = np.sqrt(np.sum(vv**2))\n",
    "    \n",
    "    # dot product between L and z \n",
    "    c = np.dot(L_norm, z_norm)\n",
    "    \n",
    "    # rotation matrix\n",
    "    I = np.array([[1, 0, 0], [0, 1, 0], [0, 0, 1]])\n",
    "    v_x = np.array([[0, -vv[2], vv[1]], [vv[2], 0, -vv[0]], [-vv[1], vv[0], 0]])\n",
    "    R = I + v_x + np.dot(v_x, v_x)*(1 - c)/s**2\n",
    "\n",
    "    # Rotate coordinate system\n",
    "    pos = np.dot(R, posI.T).T\n",
    "    vel = np.dot(R, velI.T).T\n",
    "    \n",
    "    return pos, vel"
   ]
  },
  {
   "cell_type": "markdown",
   "id": "5744e66d",
   "metadata": {},
   "source": [
    "#### 1.3 Set the snap numbers to run analysis over and determine center of mass positions of each galaxy over those time steps."
   ]
  },
  {
   "cell_type": "code",
   "execution_count": 4,
   "id": "01facb47",
   "metadata": {},
   "outputs": [],
   "source": [
    "snap_start = 0 # starting snap number\n",
    "snap_end = 800 # ending snap number\n",
    "increment = 1 # increment between snaps for plotting purposes\n",
    "MW_path = 'D:/' # path to directory containing MW orbit information\n",
    "M31_path = 'D:/' # path to directory containing M31 orbit information\n",
    "M33_path = 'D:/' # path to directory containing M33 orbit information"
   ]
  },
  {
   "cell_type": "code",
   "execution_count": null,
   "id": "eef32ee1",
   "metadata": {
    "scrolled": true
   },
   "outputs": [],
   "source": [
    "### Get the center-of-mass positions and velocities of all 3 galaxies at all snaps\n",
    "OrbitCOM('MW', snap_start, snap_end+1, increment, MW_path) # MW COM file\n",
    "OrbitCOM('M31', snap_start, snap_end+1, increment, M31_path) # M31 COM file\n",
    "OrbitCOM('M33', snap_start, snap_end+1, increment, M33_path) # M33 COM file"
   ]
  },
  {
   "cell_type": "markdown",
   "id": "e56f0df1",
   "metadata": {},
   "source": [
    "#### 1.4 Use the previously defined acceptable ranges to get the indices of all the disk particles that are within the tolerance for the three values. Using previously developed codes, get the radial distance of particles from the COM position, actual and computed circular speeds at that radii, and the z-component of the velocity."
   ]
  },
  {
   "cell_type": "code",
   "execution_count": 5,
   "id": "0872da97",
   "metadata": {},
   "outputs": [],
   "source": [
    "def sunlike_stars(path, galaxy, snap, parameters, tolerances):\n",
    "    ''' Function to find indices of Sun-like stars in the MW, M31, or M33. These stars are defined\n",
    "    as ones which are a specified radial distance away from their galactic center and with circular\n",
    "    speeds which match the one calculated by the enclosed mass within that radius, within supplied\n",
    "    tolerances. There is also a cutoff for maximum out-of-plane velocity (van der Marel+ 2012a).\n",
    "    \n",
    "    INPUTS\n",
    "    ------\n",
    "    path: `str`\n",
    "        file path prefix of location of simulation data for galaxy\n",
    "    galaxy: `str`\n",
    "        name of galaxy to find indices for ('MW', 'M31', 'M33')\n",
    "    snap: `int`\n",
    "        snap number to find sunlike star indices at\n",
    "    parameters: `tuple`\n",
    "        tuple containing sun distance from galactic center (kpc) and maximum out-of-plane velocity (km/s)\n",
    "    tolerances: `tuple`\n",
    "        fractional allowed tolerances in the radial distance from the galactic center and circular speed\n",
    "        \n",
    "    RETURNS\n",
    "    -------\n",
    "    indices: `numpy array`\n",
    "        array of indices of sun-like stars in the given galaxy\n",
    "    '''\n",
    "    \n",
    "    sun_r, max_z_velocity = sun_parameters # unpack tuple of sun parameters\n",
    "    sun_r_tol, circular_speed_tol = sun_tolerances # unpack tolerances\n",
    "    \n",
    "    mass_profile = MassProfile(galaxy, snap)\n",
    "    calculated_circular_speed = mass_profile.circularVelocityTotal(sun_r).value\n",
    "    \n",
    "    ilbl = '000' + str(snap) # add a string of the filenumber to the value “000”\n",
    "    ilbl = ilbl[-3:] # remove all but the last 3 digits\n",
    "    # compose filename for each snap number being iterated\n",
    "    filename = path + f'{galaxy}/' + '%s_'%(galaxy) + ilbl + '.txt' \n",
    "    \n",
    "    COMD = CenterOfMass(filename, 2) # COM object of galaxy using disk particles\n",
    "    \n",
    "    COMP = COMD.COM_P(0.1) # get position of COM at this snap\n",
    "    COMV = COMD.COM_V(COMP[0],COMP[1],COMP[2]) # velocity of COM at this snap\n",
    "    \n",
    "    # Determine positions of disk particles relative to COM \n",
    "    xD = COMD.x - COMP[0].value \n",
    "    yD = COMD.y - COMP[1].value \n",
    "    zD = COMD.z - COMP[2].value \n",
    "\n",
    "    # Determine velocities of disk particles relative to COM motion\n",
    "    vxD = COMD.vx - COMV[0].value \n",
    "    vyD = COMD.vy - COMV[1].value \n",
    "    vzD = COMD.vz - COMV[2].value \n",
    "\n",
    "    # Vectors for r and v \n",
    "    r = np.array([xD,yD,zD]).T # transposed \n",
    "    v = np.array([vxD,vyD,vzD]).T\n",
    "\n",
    "    # position and velocity of disk particles after rotating the frame of reference so that\n",
    "    # the z-axis lines up with the total galaxy angular momentum\n",
    "    r_rotated, v_rotated = RotateFrame(r, v) \n",
    "    \n",
    "    r_to_COM = np.sqrt(r_rotated[:,0]**2 + r_rotated[:,1]**2) # x-y distance of particles from COM\n",
    "    circular_speed = np.sqrt(v_rotated[:,0]**2 + v_rotated[:,1]**2) # x-y speed of disk particles\n",
    "    \n",
    "    # all particles with sun-like radius within specified tolerance\n",
    "    radial_indices = np.where(abs((r_to_COM-sun_r)/sun_r) < sun_r_tol)\n",
    "    # all particles with sun-like circular speed within specified tolerance\n",
    "    circular_speed_indices = np.where(abs((circular_speed-calculated_circular_speed)/calculated_circular_speed) \\\n",
    "                                      < circular_speed_tol)\n",
    "    \n",
    "    # all particles with z-velocity < specified limit\n",
    "    z_indices = np.where(abs(v[:,2]) < max_z_velocity) \n",
    "    \n",
    "    indices = np.intersect1d(radial_indices, z_indices) # radius and z-velocity cutoffs\n",
    "    indices = np.intersect1d(indices, circular_speed_indices) # add circular speed cutoff for MW/M31\n",
    "    \n",
    "    return indices"
   ]
  },
  {
   "cell_type": "code",
   "execution_count": 7,
   "id": "25bbfa56",
   "metadata": {},
   "outputs": [
    {
     "name": "stdout",
     "output_type": "stream",
     "text": [
      "Total number of M31 Sun-like particles: 2797\n",
      "Total number of M33 Sun-like particles: 799\n"
     ]
    }
   ],
   "source": [
    "# sun-like particle indices in the MW, M31, and M33\n",
    "MW_sunlike_indices = sunlike_stars(MW_path, 'MW', 0, sun_parameters, sun_tolerances)\n",
    "M31_sunlike_indices = sunlike_stars(M31_path, 'M31', 0, sun_parameters, sun_tolerances)\n",
    "M33_sunlike_indices = sunlike_stars(M33_path, 'M33', 0, sun_parameters, sun_tolerances)\n",
    "print('Total number of M31 Sun-like particles:', len(M31_sunlike_indices))\n",
    "print('Total number of M33 Sun-like particles:', len(M33_sunlike_indices))"
   ]
  },
  {
   "cell_type": "markdown",
   "id": "f8287087",
   "metadata": {},
   "source": [
    "## 2. Visualize trajectory of selected stars\n",
    "#### 2.1 Get positions of all particles at each snapshot relative to the M31 COM. Create frame-by-frame plots at eachsnap number, plotting the sun-like particles in a different color."
   ]
  },
  {
   "cell_type": "code",
   "execution_count": null,
   "id": "6a2e5d86",
   "metadata": {},
   "outputs": [],
   "source": [
    "ax = plt.figure(figsize=(10,10)).add_subplot(projection=\"3d\",computed_zorder=False)\n",
    "for index, i in enumerate(range(snap_start, snap_end+1, increment)):\n",
    "    index = (index + snap_start)*increment # correct index for starting at nonzero snap_start\n",
    "    ilbl = '000' + str(i) # add a string of the filenumber to the value “000”\n",
    "    ilbl = ilbl[-3:] # remove all but the last 3 digits\n",
    "    \n",
    "    ### Milky Way Plotting\n",
    "    filename1 = MW_path + 'MW/MW_' + ilbl + '.txt' # MW filename including snap\n",
    "    time, total, data1 = Read(filename1) # read in the datafile\n",
    "    disk_indices1 = np.where(data1['type'] == 2) # get all disk particle indices\n",
    "    data1 = data1[disk_indices1] # data for all disk particles\n",
    "    x1 = data1['x'] - M31_orbit['x'][index] # x position for MW disk particles relative to M31 COM\n",
    "    y1 = data1['y'] - M31_orbit['y'][index] # y position for MW disk particles relative to M31 COM\n",
    "    z1 = data1['z'] - M31_orbit['z'][index] # z position for MW disk particles relative to M31 COM\n",
    "    ax.scatter(x1, y1, z1, s=0.1, marker='.', c='green', zorder=3) # plot MW disk particles\n",
    "    # Optionally, one can include MW sun-like particles in plot. Here, I leave it out.\n",
    "#     ax.scatter(x1[MW_sunlike_indices], y1[MW_sunlike_indices],\\\n",
    "#                z1[MW_sunlike_indices], s=0.1, marker='.', c='black', zorder=5)\n",
    "    \n",
    "    ### M31 Plotting\n",
    "    filename2 = M31_path + 'M31/M31_' + ilbl + '.txt' # M31 filename including snap\n",
    "    time, total, data2 = Read(filename2) # read in the datafile\n",
    "    disk_indices2 = np.where(data2['type'] == 2) # get all disk particle indices\n",
    "    data2 = data2[disk_indices2] # data for all disk particles\n",
    "    x2 = data2['x'] - M31_orbit['x'][index] # x position for M31 disk particles relative to M31 COM\n",
    "    y2 = data2['y'] - M31_orbit['y'][index] # y position for M31 disk particles relative to M31 COM\n",
    "    z2 = data2['z'] - M31_orbit['z'][index] # z position for M31 disk particles relative to M31 COM\n",
    "    ax.scatter(x2, y2, z2, s=0.01, marker='.', c='orange') # plot M31 disk particles\n",
    "    ax.scatter(x2[M31_sunlike_indices], y2[M31_sunlike_indices], \\\n",
    "               z2[M31_sunlike_indices], s=1, c='black') # plot M31 sun-like particles\n",
    "    \n",
    "    ### M33 Plotting\n",
    "    filename3 = M33_path + 'M33/M33_' + ilbl + '.txt' # M33 filename including snap\n",
    "    time, total, data3 = Read(filename3) # read in the datafile\n",
    "    disk_indices3 = np.where(data3['type'] == 2)\n",
    "    data3 = data3[disk_indices3] # data for all disk particles\n",
    "    x3 = data3['x'] - M31_orbit['x'][index] # x position for M33 disk particles relative to M31 COM\n",
    "    y3 = data3['y'] - M31_orbit['y'][index] # y position for M33 disk particles relative to M31 COM\n",
    "    z3 = data3['z'] - M31_orbit['z'][index] # z position for M33 disk particles relative to M31 COM\n",
    "    ax.scatter(x3, y3, z3, s=0.01, marker='.', c='red') # plot M33 disk particles\n",
    "    ax.scatter(x3[M33_sunlike_indices], y3[M33_sunlike_indices],\\\n",
    "               z3[M33_sunlike_indices], s=0.1, c='black') # plot M33 sun-like particles\n",
    "    \n",
    "    ax.grid(True)\n",
    "    ax.set_xlim(-50, 50)\n",
    "    ax.set_ylim(-50, 50)\n",
    "    ax.set_zlim(-50, 50)\n",
    "    ax.view_init(30, 30)\n",
    "    \n",
    "    plt.savefig(f'images2/M31_COM_{index}.png') # save plot as image\n",
    "    ax.clear() # clear plot to get the next frame ready"
   ]
  },
  {
   "cell_type": "markdown",
   "id": "3fcd0b70",
   "metadata": {},
   "source": [
    "#### 2.3 Assemble frames in video editing software (Adobe Premiere)\n",
    "Video included in project folder (M31 COM Movie.mp4)"
   ]
  },
  {
   "cell_type": "markdown",
   "id": "a015b22d",
   "metadata": {},
   "source": [
    "## 3. Radial Migration of Sunlike Stars in M31\n",
    "#### 3.1 Create histograms showing distance of M31 sunlike stars from M31 COM at each snap"
   ]
  },
  {
   "cell_type": "code",
   "execution_count": null,
   "id": "8892fe55",
   "metadata": {},
   "outputs": [],
   "source": [
    "fig, ax = plt.subplots(figsize=(10,10))\n",
    "\n",
    "for index, i in enumerate(range(snap_start, snap_end+1, increment)):\n",
    "    index = (index + snap_start)*increment # correct index for starting at nonzero snap_start\n",
    "    ilbl = '000' + str(i) # add a string of the filenumber to the value “000”\n",
    "    ilbl = ilbl[-3:] # remove all but the last 3 digits\n",
    "    \n",
    "    ### Plot histograms of radial position of M31 sunlike particles\n",
    "    filename = M31_path + 'M31/M31_' + ilbl + '.txt' # M31 filename including snap\n",
    "    time, total, data = Read(filename) # read in the datafile\n",
    "    disk_indices = np.where(data['type'] == 2) # get all disk particle indices\n",
    "    data = data[disk_indices] # data for all disk particles\n",
    "    x = data['x'] - M31_orbit['x'][index] # x position for M31 disk particles relative to M31 COM\n",
    "    y = data['y'] - M31_orbit['y'][index] # y position for M31 disk particles relative to M31 COM\n",
    "    z = data['z'] - M31_orbit['z'][index] # z position for M31 disk particles relative to M31 COM\n",
    "    r = np.sqrt(x**2 + y**2 + z**2)\n",
    "    ax.hist(r[M31_sunlike_indices], bins=np.linspace(0, 60, 100)) # plot M31 sun-like particles\n",
    "    ax.set_title(f'Number of M31 Sunlike Particles at Given Distances from M31 COM (kpc) at Snap {i}')\n",
    "    ax.set_xlabel('Distance from COM [kpc]')\n",
    "    ax.set_ylabel('Counts')\n",
    "    ax.set_xlim(0, 60)\n",
    "    ax.set_ylim(0, 250)    \n",
    "    \n",
    "    \n",
    "    plt.savefig(f'histograms plots/M31_migration_histogram_{index}.png') # save plot as image\n",
    "    ax.clear() # clear plot to get the next frame ready"
   ]
  },
  {
   "cell_type": "markdown",
   "id": "e2864cf2",
   "metadata": {},
   "source": [
    "#### 3.2 Assemble frames in video editing software (Adobe Premiere)\n",
    "First draft of video included in project folder (M31 Histogram Video (Work in Progress).mp4)"
   ]
  },
  {
   "cell_type": "markdown",
   "id": "d0045250",
   "metadata": {},
   "source": [
    "#### 3.3 Maximum, minimum, and median particle radius over time\n",
    "At each snap number, determine the maximum, minimum, and median Sun-like particle radius. Construct a plot of these quantities over time to show the bounds of radii containing all of the particles over time."
   ]
  },
  {
   "cell_type": "code",
   "execution_count": null,
   "id": "4a777a37",
   "metadata": {
    "scrolled": true
   },
   "outputs": [],
   "source": [
    "radii_time_series = np.zeros(len(range(snap_start, snap_end+1, increment))) # time array for plotting\n",
    "minimum_radii = np.zeros(len(range(snap_start, snap_end+1, increment))) # empty min radii array\n",
    "maximum_radii = np.zeros(len(range(snap_start, snap_end+1, increment))) # empty max radii array\n",
    "median_radii = np.zeros(len(range(snap_start, snap_end+1, increment))) # empty median radii array\n",
    "\n",
    "for index, i in enumerate(range(snap_start, snap_end+1, increment)):\n",
    "    snap_index = (index + snap_start)*increment # correct index for starting at nonzero snap_start\n",
    "    ilbl = '000' + str(i) # add a string of the filenumber to the value “000”\n",
    "    ilbl = ilbl[-3:] # remove all but the last 3 digits\n",
    "    \n",
    "    # Read in datafile at each snap number\n",
    "    filename = M31_path + 'M31/M31_' + ilbl + '.txt' # M31 filename including snap\n",
    "    time, total, data = Read(filename) # read in the datafile\n",
    "    print(i, time) # print the current step and real simulation time\n",
    "    \n",
    "    disk_indices = np.where(data['type'] == 2) # get all disk particle indices\n",
    "    data = data[disk_indices] # data for all disk particles\n",
    "    x = data['x'] - M31_orbit['x'][snap_index] # x position for M31 disk particles relative to M31 COM\n",
    "    y = data['y'] - M31_orbit['y'][snap_index] # y position for M31 disk particles relative to M31 COM\n",
    "    z = data['z'] - M31_orbit['z'][snap_index] # z position for M31 disk particles relative to M31 COM\n",
    "    r = np.sqrt(x**2 + y**2 + z**2) # magnitude of radii for all particles at this timestep\n",
    "    M31_sunlike_r = r[M31_sunlike_indices] # all radii of Sun-like particles\n",
    "    \n",
    "    minimum_radii[index] = M31_sunlike_r.min() # minimum Sun-like particle radius\n",
    "    maximum_radii[index] = M31_sunlike_r.max() # maximum Sun-like particle radius\n",
    "    median_radii[index] = np.median(M31_sunlike_r) # median Sun-like particle radius\n",
    "    radii_time_series[index] = time.value/1000 # current simulation time in Gyr"
   ]
  },
  {
   "cell_type": "code",
   "execution_count": 78,
   "id": "30cae6e0",
   "metadata": {},
   "outputs": [
    {
     "data": {
      "image/png": "[encoded data removed]",
      "text/plain": [
       "<Figure size 576x360 with 1 Axes>"
      ]
     },
     "metadata": {
      "needs_background": "light"
     },
     "output_type": "display_data"
    }
   ],
   "source": [
    "fig, ax = plt.subplots(figsize=(8,5))\n",
    "ax.plot(radii_time_series, minimum_radii, c='blue', label='Maximum') # plot minimum radii\n",
    "ax.plot(radii_time_series, maximum_radii, c='green', label='Minimum') # plot maximum radii\n",
    "ax.plot(radii_time_series, median_radii, c='black', ls='--', lw=2, label='Median') # plot median radii\n",
    "ax.fill_between(radii_time_series, minimum_radii, median_radii, color='blue', alpha=0.2) # min-median fill\n",
    "ax.fill_between(radii_time_series, maximum_radii, median_radii, color='green', alpha=0.2) # max-median fill\n",
    "ax.set_title('Minimum, Maximum, and Median Distance from COM of M31 Sunlike Particles [kpc] vs Time [Gyr]')\n",
    "ax.set_xlabel('Time [Gyr]')\n",
    "ax.set_ylabel('Distance from M31 COM [kpc]')\n",
    "plt.legend()\n",
    "plt.savefig('Radius-Plot.pdf')"
   ]
  }
 ],
 "metadata": {
  "kernelspec": {
   "display_name": "Python 3 (ipykernel)",
   "language": "python",
   "name": "python3"
  },
  "language_info": {
   "codemirror_mode": {
    "name": "ipython",
    "version": 3
   },
   "file_extension": ".py",
   "mimetype": "text/x-python",
   "name": "python",
   "nbconvert_exporter": "python",
   "pygments_lexer": "ipython3",
   "version": "3.9.7"
  }
 },
 "nbformat": 4,
 "nbformat_minor": 5
}
